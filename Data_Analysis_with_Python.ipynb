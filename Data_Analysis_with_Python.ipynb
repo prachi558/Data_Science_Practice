{
 "cells": [
  {
   "cell_type": "markdown",
   "id": "340663e9",
   "metadata": {},
   "source": [
    "# Getting Started"
   ]
  },
  {
   "cell_type": "code",
   "execution_count": 1,
   "id": "f44fcbea",
   "metadata": {},
   "outputs": [],
   "source": [
    "import pandas as pd\n",
    "import numpy as np"
   ]
  },
  {
   "cell_type": "code",
   "execution_count": 2,
   "id": "8fe8380d",
   "metadata": {},
   "outputs": [],
   "source": [
    "link = 'https://raw.githubusercontent.com/AshishJangra27/Data-Analysis-with-Python-GFG/main/2.%20Dataset%20Walkthrough/googleplaystore.csv'"
   ]
  },
  {
   "cell_type": "code",
   "execution_count": 3,
   "id": "3eadec51",
   "metadata": {},
   "outputs": [],
   "source": [
    "data = pd.read_csv(link)"
   ]
  },
  {
   "cell_type": "code",
   "execution_count": 4,
   "id": "b36c2259",
   "metadata": {},
   "outputs": [
    {
     "data": {
      "text/html": [
       "<div>\n",
       "<style scoped>\n",
       "    .dataframe tbody tr th:only-of-type {\n",
       "        vertical-align: middle;\n",
       "    }\n",
       "\n",
       "    .dataframe tbody tr th {\n",
       "        vertical-align: top;\n",
       "    }\n",
       "\n",
       "    .dataframe thead th {\n",
       "        text-align: right;\n",
       "    }\n",
       "</style>\n",
       "<table border=\"1\" class=\"dataframe\">\n",
       "  <thead>\n",
       "    <tr style=\"text-align: right;\">\n",
       "      <th></th>\n",
       "      <th>App</th>\n",
       "      <th>Category</th>\n",
       "      <th>Rating</th>\n",
       "      <th>Reviews</th>\n",
       "      <th>Size</th>\n",
       "      <th>Installs</th>\n",
       "      <th>Type</th>\n",
       "      <th>Price</th>\n",
       "      <th>Content Rating</th>\n",
       "      <th>Genres</th>\n",
       "      <th>Last Updated</th>\n",
       "      <th>Current Ver</th>\n",
       "      <th>Android Ver</th>\n",
       "    </tr>\n",
       "  </thead>\n",
       "  <tbody>\n",
       "    <tr>\n",
       "      <th>0</th>\n",
       "      <td>Photo Editor &amp; Candy Camera &amp; Grid &amp; ScrapBook</td>\n",
       "      <td>ART_AND_DESIGN</td>\n",
       "      <td>4.1</td>\n",
       "      <td>159</td>\n",
       "      <td>19M</td>\n",
       "      <td>10,000+</td>\n",
       "      <td>Free</td>\n",
       "      <td>0</td>\n",
       "      <td>Everyone</td>\n",
       "      <td>Art &amp; Design</td>\n",
       "      <td>January 7, 2018</td>\n",
       "      <td>1.0.0</td>\n",
       "      <td>4.0.3 and up</td>\n",
       "    </tr>\n",
       "    <tr>\n",
       "      <th>1</th>\n",
       "      <td>Coloring book moana</td>\n",
       "      <td>ART_AND_DESIGN</td>\n",
       "      <td>3.9</td>\n",
       "      <td>967</td>\n",
       "      <td>14M</td>\n",
       "      <td>500,000+</td>\n",
       "      <td>Free</td>\n",
       "      <td>0</td>\n",
       "      <td>Everyone</td>\n",
       "      <td>Art &amp; Design;Pretend Play</td>\n",
       "      <td>January 15, 2018</td>\n",
       "      <td>2.0.0</td>\n",
       "      <td>4.0.3 and up</td>\n",
       "    </tr>\n",
       "    <tr>\n",
       "      <th>2</th>\n",
       "      <td>U Launcher Lite – FREE Live Cool Themes, Hide ...</td>\n",
       "      <td>ART_AND_DESIGN</td>\n",
       "      <td>4.7</td>\n",
       "      <td>87510</td>\n",
       "      <td>8.7M</td>\n",
       "      <td>5,000,000+</td>\n",
       "      <td>Free</td>\n",
       "      <td>0</td>\n",
       "      <td>Everyone</td>\n",
       "      <td>Art &amp; Design</td>\n",
       "      <td>August 1, 2018</td>\n",
       "      <td>1.2.4</td>\n",
       "      <td>4.0.3 and up</td>\n",
       "    </tr>\n",
       "    <tr>\n",
       "      <th>3</th>\n",
       "      <td>Sketch - Draw &amp; Paint</td>\n",
       "      <td>ART_AND_DESIGN</td>\n",
       "      <td>4.5</td>\n",
       "      <td>215644</td>\n",
       "      <td>25M</td>\n",
       "      <td>50,000,000+</td>\n",
       "      <td>Free</td>\n",
       "      <td>0</td>\n",
       "      <td>Teen</td>\n",
       "      <td>Art &amp; Design</td>\n",
       "      <td>June 8, 2018</td>\n",
       "      <td>Varies with device</td>\n",
       "      <td>4.2 and up</td>\n",
       "    </tr>\n",
       "    <tr>\n",
       "      <th>4</th>\n",
       "      <td>Pixel Draw - Number Art Coloring Book</td>\n",
       "      <td>ART_AND_DESIGN</td>\n",
       "      <td>4.3</td>\n",
       "      <td>967</td>\n",
       "      <td>2.8M</td>\n",
       "      <td>100,000+</td>\n",
       "      <td>Free</td>\n",
       "      <td>0</td>\n",
       "      <td>Everyone</td>\n",
       "      <td>Art &amp; Design;Creativity</td>\n",
       "      <td>June 20, 2018</td>\n",
       "      <td>1.1</td>\n",
       "      <td>4.4 and up</td>\n",
       "    </tr>\n",
       "  </tbody>\n",
       "</table>\n",
       "</div>"
      ],
      "text/plain": [
       "                                                 App        Category  Rating  \\\n",
       "0     Photo Editor & Candy Camera & Grid & ScrapBook  ART_AND_DESIGN     4.1   \n",
       "1                                Coloring book moana  ART_AND_DESIGN     3.9   \n",
       "2  U Launcher Lite – FREE Live Cool Themes, Hide ...  ART_AND_DESIGN     4.7   \n",
       "3                              Sketch - Draw & Paint  ART_AND_DESIGN     4.5   \n",
       "4              Pixel Draw - Number Art Coloring Book  ART_AND_DESIGN     4.3   \n",
       "\n",
       "  Reviews  Size     Installs  Type Price Content Rating  \\\n",
       "0     159   19M      10,000+  Free     0       Everyone   \n",
       "1     967   14M     500,000+  Free     0       Everyone   \n",
       "2   87510  8.7M   5,000,000+  Free     0       Everyone   \n",
       "3  215644   25M  50,000,000+  Free     0           Teen   \n",
       "4     967  2.8M     100,000+  Free     0       Everyone   \n",
       "\n",
       "                      Genres      Last Updated         Current Ver  \\\n",
       "0               Art & Design   January 7, 2018               1.0.0   \n",
       "1  Art & Design;Pretend Play  January 15, 2018               2.0.0   \n",
       "2               Art & Design    August 1, 2018               1.2.4   \n",
       "3               Art & Design      June 8, 2018  Varies with device   \n",
       "4    Art & Design;Creativity     June 20, 2018                 1.1   \n",
       "\n",
       "    Android Ver  \n",
       "0  4.0.3 and up  \n",
       "1  4.0.3 and up  \n",
       "2  4.0.3 and up  \n",
       "3    4.2 and up  \n",
       "4    4.4 and up  "
      ]
     },
     "execution_count": 4,
     "metadata": {},
     "output_type": "execute_result"
    }
   ],
   "source": [
    "df = pd.DataFrame(data)\n",
    "df.head()"
   ]
  },
  {
   "cell_type": "code",
   "execution_count": 5,
   "id": "b5ffcf1a",
   "metadata": {},
   "outputs": [
    {
     "data": {
      "text/plain": [
       "Index(['App', 'Category', 'Rating', 'Reviews', 'Size', 'Installs', 'Type',\n",
       "       'Price', 'Content Rating', 'Genres', 'Last Updated', 'Current Ver',\n",
       "       'Android Ver'],\n",
       "      dtype='object')"
      ]
     },
     "execution_count": 5,
     "metadata": {},
     "output_type": "execute_result"
    }
   ],
   "source": [
    "df.columns"
   ]
  },
  {
   "cell_type": "markdown",
   "id": "a12e1a81",
   "metadata": {},
   "source": [
    "# Data Preprocessing"
   ]
  },
  {
   "cell_type": "code",
   "execution_count": 6,
   "id": "ebb844c5",
   "metadata": {},
   "outputs": [],
   "source": [
    "# checking number of null values in every column"
   ]
  },
  {
   "cell_type": "code",
   "execution_count": 7,
   "id": "0d7f7e58",
   "metadata": {},
   "outputs": [
    {
     "data": {
      "text/plain": [
       "App                  0\n",
       "Category             0\n",
       "Rating            1474\n",
       "Reviews              0\n",
       "Size                 0\n",
       "Installs             0\n",
       "Type                 1\n",
       "Price                0\n",
       "Content Rating       1\n",
       "Genres               0\n",
       "Last Updated         0\n",
       "Current Ver          8\n",
       "Android Ver          3\n",
       "dtype: int64"
      ]
     },
     "execution_count": 7,
     "metadata": {},
     "output_type": "execute_result"
    }
   ],
   "source": [
    "df.isnull().sum()"
   ]
  },
  {
   "cell_type": "code",
   "execution_count": 8,
   "id": "433d0a51",
   "metadata": {},
   "outputs": [],
   "source": [
    "# thus the columns : rating, type, content rating, current version and android version have null values"
   ]
  },
  {
   "cell_type": "code",
   "execution_count": 9,
   "id": "9088a813",
   "metadata": {},
   "outputs": [],
   "source": [
    "# replacing null values with something else"
   ]
  },
  {
   "cell_type": "code",
   "execution_count": 10,
   "id": "49962a47",
   "metadata": {},
   "outputs": [
    {
     "data": {
      "text/plain": [
       "App               0\n",
       "Category          0\n",
       "Rating            0\n",
       "Reviews           0\n",
       "Size              0\n",
       "Installs          0\n",
       "Type              0\n",
       "Price             0\n",
       "Content Rating    0\n",
       "Genres            0\n",
       "Last Updated      0\n",
       "Current Ver       0\n",
       "Android Ver       0\n",
       "dtype: int64"
      ]
     },
     "execution_count": 10,
     "metadata": {},
     "output_type": "execute_result"
    }
   ],
   "source": [
    "df['Rating'] = df['Rating'].fillna(0)\n",
    "df['Content Rating'] = df['Content Rating'].fillna('Unrated')\n",
    "df['Current Ver'] = df['Current Ver'].fillna('Not available')\n",
    "df['Android Ver'] = df['Android Ver'].fillna('Not available')\n",
    "df['Type'] = df['Type'].fillna('0')\n",
    "df.isnull().sum()\n",
    "# dropna() can be used to drop the rows having null values"
   ]
  },
  {
   "cell_type": "markdown",
   "id": "3fcd3ed5",
   "metadata": {},
   "source": [
    "#### Analyzing numeric values"
   ]
  },
  {
   "cell_type": "code",
   "execution_count": 11,
   "id": "3fa22249",
   "metadata": {},
   "outputs": [],
   "source": [
    "# finding average rating of apps : round figure"
   ]
  },
  {
   "cell_type": "code",
   "execution_count": 12,
   "id": "36578580",
   "metadata": {},
   "outputs": [
    {
     "data": {
      "text/plain": [
       "4"
      ]
     },
     "execution_count": 12,
     "metadata": {},
     "output_type": "execute_result"
    }
   ],
   "source": [
    "import statistics as stat\n",
    "round(stat.mean(df['Rating']))"
   ]
  },
  {
   "cell_type": "code",
   "execution_count": 13,
   "id": "41e5ba4e",
   "metadata": {},
   "outputs": [],
   "source": [
    "# checking how many apps have rating 5"
   ]
  },
  {
   "cell_type": "code",
   "execution_count": 14,
   "id": "f81dd984",
   "metadata": {},
   "outputs": [
    {
     "data": {
      "text/plain": [
       "274"
      ]
     },
     "execution_count": 14,
     "metadata": {},
     "output_type": "execute_result"
    }
   ],
   "source": [
    "len(df[df['Rating']==5])"
   ]
  },
  {
   "cell_type": "markdown",
   "id": "cb9deb67",
   "metadata": {},
   "source": [
    "#### Analyzing categorical values"
   ]
  },
  {
   "cell_type": "code",
   "execution_count": 15,
   "id": "66e40d55",
   "metadata": {},
   "outputs": [
    {
     "data": {
      "text/plain": [
       "array(['Free', 'Paid', '0'], dtype=object)"
      ]
     },
     "execution_count": 15,
     "metadata": {},
     "output_type": "execute_result"
    }
   ],
   "source": [
    "df['Type'].unique()"
   ]
  },
  {
   "cell_type": "code",
   "execution_count": 16,
   "id": "b5637bb7",
   "metadata": {},
   "outputs": [],
   "source": [
    "# finding total number of free and paid apps and percentage of free apps"
   ]
  },
  {
   "cell_type": "code",
   "execution_count": 17,
   "id": "fee621b0",
   "metadata": {},
   "outputs": [
    {
     "name": "stdout",
     "output_type": "stream",
     "text": [
      "free apps :  10039\n",
      "paid apps :  800\n"
     ]
    }
   ],
   "source": [
    "free = len(df[df['Type']=='Free'])\n",
    "paid = len(df[df['Type']=='Paid'])\n",
    "print('free apps : ', free)\n",
    "print('paid apps : ', paid)"
   ]
  },
  {
   "cell_type": "code",
   "execution_count": 18,
   "id": "2d27850f",
   "metadata": {},
   "outputs": [
    {
     "name": "stdout",
     "output_type": "stream",
     "text": [
      "percentage of free apps are :  92.61924531783376\n"
     ]
    }
   ],
   "source": [
    "print('percentage of free apps are : ', (free/(free+paid))*100)"
   ]
  },
  {
   "cell_type": "code",
   "execution_count": 19,
   "id": "acfc89e8",
   "metadata": {},
   "outputs": [
    {
     "data": {
      "text/plain": [
       "34"
      ]
     },
     "execution_count": 19,
     "metadata": {},
     "output_type": "execute_result"
    }
   ],
   "source": [
    "# checking how many categories are there\n",
    "len(df['Category'].unique())"
   ]
  },
  {
   "cell_type": "code",
   "execution_count": 20,
   "id": "25a6b7bb",
   "metadata": {},
   "outputs": [
    {
     "data": {
      "text/plain": [
       "65"
      ]
     },
     "execution_count": 20,
     "metadata": {},
     "output_type": "execute_result"
    }
   ],
   "source": [
    "# checking how many apps in art and design\n",
    "len(df[df['Category']=='ART_AND_DESIGN'])"
   ]
  },
  {
   "cell_type": "code",
   "execution_count": 21,
   "id": "56cefa92",
   "metadata": {},
   "outputs": [
    {
     "data": {
      "text/plain": [
       "array(['Everyone', 'Teen', 'Everyone 10+', 'Mature 17+',\n",
       "       'Adults only 18+', 'Unrated'], dtype=object)"
      ]
     },
     "execution_count": 21,
     "metadata": {},
     "output_type": "execute_result"
    }
   ],
   "source": [
    "df['Content Rating'].unique()"
   ]
  },
  {
   "cell_type": "code",
   "execution_count": 22,
   "id": "a109c834",
   "metadata": {},
   "outputs": [
    {
     "name": "stdout",
     "output_type": "stream",
     "text": [
      "ART_AND_DESIGN  :  65\n",
      "AUTO_AND_VEHICLES  :  85\n",
      "BEAUTY  :  53\n",
      "BOOKS_AND_REFERENCE  :  231\n",
      "BUSINESS  :  460\n",
      "COMICS  :  60\n",
      "COMMUNICATION  :  387\n",
      "DATING  :  234\n",
      "EDUCATION  :  156\n",
      "ENTERTAINMENT  :  149\n",
      "EVENTS  :  64\n",
      "FINANCE  :  366\n",
      "FOOD_AND_DRINK  :  127\n",
      "HEALTH_AND_FITNESS  :  341\n",
      "HOUSE_AND_HOME  :  88\n",
      "LIBRARIES_AND_DEMO  :  85\n",
      "LIFESTYLE  :  382\n",
      "GAME  :  1144\n",
      "FAMILY  :  1972\n",
      "MEDICAL  :  463\n",
      "SOCIAL  :  295\n",
      "SHOPPING  :  260\n",
      "PHOTOGRAPHY  :  335\n",
      "SPORTS  :  384\n",
      "TRAVEL_AND_LOCAL  :  258\n",
      "TOOLS  :  843\n",
      "PERSONALIZATION  :  392\n",
      "PRODUCTIVITY  :  424\n",
      "PARENTING  :  60\n",
      "WEATHER  :  82\n",
      "VIDEO_PLAYERS  :  175\n",
      "NEWS_AND_MAGAZINES  :  283\n",
      "MAPS_AND_NAVIGATION  :  137\n",
      "1.9  :  1\n"
     ]
    }
   ],
   "source": [
    "# writing number of apps in all categories using for loop\n",
    "for i in df['Category'].unique():\n",
    "    n = len(df[df['Category']==i])\n",
    "    print(i,' : ',n)"
   ]
  },
  {
   "cell_type": "code",
   "execution_count": 23,
   "id": "1d7cd28e",
   "metadata": {},
   "outputs": [
    {
     "name": "stdout",
     "output_type": "stream",
     "text": [
      "Art & Design  :  58\n",
      "Art & Design;Pretend Play  :  2\n",
      "Art & Design;Creativity  :  7\n",
      "Art & Design;Action & Adventure  :  2\n",
      "Auto & Vehicles  :  85\n",
      "Beauty  :  53\n",
      "Books & Reference  :  231\n",
      "Business  :  460\n",
      "Comics  :  59\n",
      "Comics;Creativity  :  1\n",
      "Communication  :  387\n",
      "Dating  :  234\n",
      "Education;Education  :  50\n",
      "Education  :  549\n",
      "Education;Creativity  :  7\n",
      "Education;Music & Video  :  5\n",
      "Education;Action & Adventure  :  6\n",
      "Education;Pretend Play  :  23\n",
      "Education;Brain Games  :  5\n",
      "Entertainment  :  623\n",
      "Entertainment;Music & Video  :  27\n",
      "Entertainment;Brain Games  :  8\n",
      "Entertainment;Creativity  :  3\n",
      "Events  :  64\n",
      "Finance  :  366\n",
      "Food & Drink  :  127\n",
      "Health & Fitness  :  341\n",
      "House & Home  :  88\n",
      "Libraries & Demo  :  85\n",
      "Lifestyle  :  381\n",
      "Lifestyle;Pretend Play  :  1\n",
      "Adventure;Action & Adventure  :  13\n",
      "Arcade  :  220\n",
      "Casual  :  193\n",
      "Card  :  48\n",
      "Casual;Pretend Play  :  31\n",
      "Action  :  365\n",
      "Strategy  :  107\n",
      "Puzzle  :  140\n",
      "Sports  :  398\n",
      "Music  :  22\n",
      "Word  :  29\n",
      "Racing  :  98\n",
      "Casual;Creativity  :  7\n",
      "Casual;Action & Adventure  :  21\n",
      "Simulation  :  200\n",
      "Adventure  :  75\n",
      "Board  :  44\n",
      "Trivia  :  38\n",
      "Role Playing  :  109\n",
      "Simulation;Education  :  3\n",
      "Action;Action & Adventure  :  17\n",
      "Casual;Brain Games  :  13\n",
      "Simulation;Action & Adventure  :  11\n",
      "Educational;Creativity  :  5\n",
      "Puzzle;Brain Games  :  19\n",
      "Educational;Education  :  41\n",
      "Card;Brain Games  :  1\n",
      "Educational;Brain Games  :  6\n",
      "Educational;Pretend Play  :  19\n",
      "Entertainment;Education  :  1\n",
      "Casual;Education  :  3\n",
      "Music;Music & Video  :  3\n",
      "Racing;Action & Adventure  :  20\n",
      "Arcade;Pretend Play  :  1\n",
      "Role Playing;Action & Adventure  :  7\n",
      "Simulation;Pretend Play  :  4\n",
      "Puzzle;Creativity  :  2\n",
      "Sports;Action & Adventure  :  4\n",
      "Educational;Action & Adventure  :  4\n",
      "Arcade;Action & Adventure  :  16\n",
      "Entertainment;Action & Adventure  :  3\n",
      "Puzzle;Action & Adventure  :  5\n",
      "Strategy;Action & Adventure  :  2\n",
      "Music & Audio;Music & Video  :  1\n",
      "Health & Fitness;Education  :  1\n",
      "Adventure;Education  :  2\n",
      "Board;Brain Games  :  15\n",
      "Board;Action & Adventure  :  3\n",
      "Board;Pretend Play  :  1\n",
      "Casual;Music & Video  :  2\n",
      "Role Playing;Pretend Play  :  5\n",
      "Entertainment;Pretend Play  :  2\n",
      "Video Players & Editors;Creativity  :  2\n",
      "Card;Action & Adventure  :  2\n",
      "Medical  :  463\n",
      "Social  :  295\n",
      "Shopping  :  260\n",
      "Photography  :  335\n",
      "Travel & Local  :  257\n",
      "Travel & Local;Action & Adventure  :  1\n",
      "Tools  :  842\n",
      "Tools;Education  :  1\n",
      "Personalization  :  392\n",
      "Productivity  :  424\n",
      "Parenting  :  46\n",
      "Parenting;Music & Video  :  6\n",
      "Parenting;Education  :  7\n",
      "Parenting;Brain Games  :  1\n",
      "Weather  :  82\n",
      "Video Players & Editors  :  173\n",
      "Video Players & Editors;Music & Video  :  3\n",
      "News & Magazines  :  283\n",
      "Maps & Navigation  :  137\n",
      "Health & Fitness;Action & Adventure  :  1\n",
      "Educational  :  37\n",
      "Casino  :  39\n",
      "Adventure;Brain Games  :  1\n",
      "Trivia;Education  :  1\n",
      "Lifestyle;Education  :  1\n",
      "Books & Reference;Creativity  :  1\n",
      "Books & Reference;Education  :  2\n",
      "Puzzle;Education  :  1\n",
      "Role Playing;Education  :  1\n",
      "Role Playing;Brain Games  :  1\n",
      "Strategy;Education  :  1\n",
      "Racing;Pretend Play  :  1\n",
      "Communication;Creativity  :  1\n",
      "February 11, 2018  :  1\n",
      "Strategy;Creativity  :  1\n",
      "****************************************************************************************************\n",
      "Everyone  :  8714\n",
      "Teen  :  1208\n",
      "Everyone 10+  :  414\n",
      "Mature 17+  :  499\n",
      "Adults only 18+  :  3\n",
      "Unrated  :  3\n"
     ]
    }
   ],
   "source": [
    "# doing the same for genre and content rating\n",
    "for i in df['Genres'].unique():\n",
    "    n = len(df[df['Genres']==i])\n",
    "    print(i,' : ',n)\n",
    "    \n",
    "print('*'*100)\n",
    "    \n",
    "for i in df['Content Rating'].unique():\n",
    "    n = len(df[df['Content Rating']==i])\n",
    "    print(i,' : ',n)"
   ]
  },
  {
   "cell_type": "code",
   "execution_count": 24,
   "id": "09ec02a8",
   "metadata": {},
   "outputs": [
    {
     "data": {
      "text/plain": [
       "count     10841\n",
       "unique        3\n",
       "top        Free\n",
       "freq      10039\n",
       "Name: Type, dtype: object"
      ]
     },
     "execution_count": 24,
     "metadata": {},
     "output_type": "execute_result"
    }
   ],
   "source": [
    "# using describe function\n",
    "df['Type'].describe()"
   ]
  },
  {
   "cell_type": "markdown",
   "id": "d146aa81",
   "metadata": {},
   "source": [
    "#### Handling null values using imputer"
   ]
  },
  {
   "cell_type": "code",
   "execution_count": 25,
   "id": "67bcc7bc",
   "metadata": {},
   "outputs": [],
   "source": [
    "import pandas as pd\n",
    "link = 'https://raw.githubusercontent.com/AshishJangra27/Data-Analysis-with-Python-GFG/main/2.%20Dataset%20Walkthrough/googleplaystore.csv'"
   ]
  },
  {
   "cell_type": "code",
   "execution_count": 26,
   "id": "7cb98421",
   "metadata": {},
   "outputs": [
    {
     "data": {
      "text/html": [
       "<div>\n",
       "<style scoped>\n",
       "    .dataframe tbody tr th:only-of-type {\n",
       "        vertical-align: middle;\n",
       "    }\n",
       "\n",
       "    .dataframe tbody tr th {\n",
       "        vertical-align: top;\n",
       "    }\n",
       "\n",
       "    .dataframe thead th {\n",
       "        text-align: right;\n",
       "    }\n",
       "</style>\n",
       "<table border=\"1\" class=\"dataframe\">\n",
       "  <thead>\n",
       "    <tr style=\"text-align: right;\">\n",
       "      <th></th>\n",
       "      <th>App</th>\n",
       "      <th>Category</th>\n",
       "      <th>Rating</th>\n",
       "      <th>Reviews</th>\n",
       "      <th>Size</th>\n",
       "      <th>Installs</th>\n",
       "      <th>Type</th>\n",
       "      <th>Price</th>\n",
       "      <th>Content Rating</th>\n",
       "      <th>Genres</th>\n",
       "      <th>Last Updated</th>\n",
       "      <th>Current Ver</th>\n",
       "      <th>Android Ver</th>\n",
       "    </tr>\n",
       "  </thead>\n",
       "  <tbody>\n",
       "    <tr>\n",
       "      <th>0</th>\n",
       "      <td>Photo Editor &amp; Candy Camera &amp; Grid &amp; ScrapBook</td>\n",
       "      <td>ART_AND_DESIGN</td>\n",
       "      <td>4.1</td>\n",
       "      <td>159</td>\n",
       "      <td>19M</td>\n",
       "      <td>10,000+</td>\n",
       "      <td>Free</td>\n",
       "      <td>0</td>\n",
       "      <td>Everyone</td>\n",
       "      <td>Art &amp; Design</td>\n",
       "      <td>January 7, 2018</td>\n",
       "      <td>1.0.0</td>\n",
       "      <td>4.0.3 and up</td>\n",
       "    </tr>\n",
       "    <tr>\n",
       "      <th>1</th>\n",
       "      <td>Coloring book moana</td>\n",
       "      <td>ART_AND_DESIGN</td>\n",
       "      <td>3.9</td>\n",
       "      <td>967</td>\n",
       "      <td>14M</td>\n",
       "      <td>500,000+</td>\n",
       "      <td>Free</td>\n",
       "      <td>0</td>\n",
       "      <td>Everyone</td>\n",
       "      <td>Art &amp; Design;Pretend Play</td>\n",
       "      <td>January 15, 2018</td>\n",
       "      <td>2.0.0</td>\n",
       "      <td>4.0.3 and up</td>\n",
       "    </tr>\n",
       "  </tbody>\n",
       "</table>\n",
       "</div>"
      ],
      "text/plain": [
       "                                              App        Category  Rating  \\\n",
       "0  Photo Editor & Candy Camera & Grid & ScrapBook  ART_AND_DESIGN     4.1   \n",
       "1                             Coloring book moana  ART_AND_DESIGN     3.9   \n",
       "\n",
       "  Reviews Size  Installs  Type Price Content Rating  \\\n",
       "0     159  19M   10,000+  Free     0       Everyone   \n",
       "1     967  14M  500,000+  Free     0       Everyone   \n",
       "\n",
       "                      Genres      Last Updated Current Ver   Android Ver  \n",
       "0               Art & Design   January 7, 2018       1.0.0  4.0.3 and up  \n",
       "1  Art & Design;Pretend Play  January 15, 2018       2.0.0  4.0.3 and up  "
      ]
     },
     "execution_count": 26,
     "metadata": {},
     "output_type": "execute_result"
    }
   ],
   "source": [
    "data = pd.read_csv(link)\n",
    "df = pd.DataFrame(data)\n",
    "df.head(2)"
   ]
  },
  {
   "cell_type": "code",
   "execution_count": 27,
   "id": "8f37f240",
   "metadata": {},
   "outputs": [
    {
     "data": {
      "text/plain": [
       "1474"
      ]
     },
     "execution_count": 27,
     "metadata": {},
     "output_type": "execute_result"
    }
   ],
   "source": [
    "from sklearn.impute import SimpleImputer\n",
    "import numpy as np\n",
    "df['Rating'].isnull().sum()"
   ]
  },
  {
   "cell_type": "code",
   "execution_count": 28,
   "id": "bcf7ff81",
   "metadata": {},
   "outputs": [],
   "source": [
    "# Create a imputer to calculate the mean excluding the null values\n",
    "# there are other stratergies apart from mean as well that you can use\n",
    "A = SimpleImputer(missing_values=np.nan,strategy='mean')"
   ]
  },
  {
   "cell_type": "code",
   "execution_count": 29,
   "id": "b8a6ee1e",
   "metadata": {},
   "outputs": [
    {
     "data": {
      "text/html": [
       "<style>#sk-container-id-1 {color: black;background-color: white;}#sk-container-id-1 pre{padding: 0;}#sk-container-id-1 div.sk-toggleable {background-color: white;}#sk-container-id-1 label.sk-toggleable__label {cursor: pointer;display: block;width: 100%;margin-bottom: 0;padding: 0.3em;box-sizing: border-box;text-align: center;}#sk-container-id-1 label.sk-toggleable__label-arrow:before {content: \"▸\";float: left;margin-right: 0.25em;color: #696969;}#sk-container-id-1 label.sk-toggleable__label-arrow:hover:before {color: black;}#sk-container-id-1 div.sk-estimator:hover label.sk-toggleable__label-arrow:before {color: black;}#sk-container-id-1 div.sk-toggleable__content {max-height: 0;max-width: 0;overflow: hidden;text-align: left;background-color: #f0f8ff;}#sk-container-id-1 div.sk-toggleable__content pre {margin: 0.2em;color: black;border-radius: 0.25em;background-color: #f0f8ff;}#sk-container-id-1 input.sk-toggleable__control:checked~div.sk-toggleable__content {max-height: 200px;max-width: 100%;overflow: auto;}#sk-container-id-1 input.sk-toggleable__control:checked~label.sk-toggleable__label-arrow:before {content: \"▾\";}#sk-container-id-1 div.sk-estimator input.sk-toggleable__control:checked~label.sk-toggleable__label {background-color: #d4ebff;}#sk-container-id-1 div.sk-label input.sk-toggleable__control:checked~label.sk-toggleable__label {background-color: #d4ebff;}#sk-container-id-1 input.sk-hidden--visually {border: 0;clip: rect(1px 1px 1px 1px);clip: rect(1px, 1px, 1px, 1px);height: 1px;margin: -1px;overflow: hidden;padding: 0;position: absolute;width: 1px;}#sk-container-id-1 div.sk-estimator {font-family: monospace;background-color: #f0f8ff;border: 1px dotted black;border-radius: 0.25em;box-sizing: border-box;margin-bottom: 0.5em;}#sk-container-id-1 div.sk-estimator:hover {background-color: #d4ebff;}#sk-container-id-1 div.sk-parallel-item::after {content: \"\";width: 100%;border-bottom: 1px solid gray;flex-grow: 1;}#sk-container-id-1 div.sk-label:hover label.sk-toggleable__label {background-color: #d4ebff;}#sk-container-id-1 div.sk-serial::before {content: \"\";position: absolute;border-left: 1px solid gray;box-sizing: border-box;top: 0;bottom: 0;left: 50%;z-index: 0;}#sk-container-id-1 div.sk-serial {display: flex;flex-direction: column;align-items: center;background-color: white;padding-right: 0.2em;padding-left: 0.2em;position: relative;}#sk-container-id-1 div.sk-item {position: relative;z-index: 1;}#sk-container-id-1 div.sk-parallel {display: flex;align-items: stretch;justify-content: center;background-color: white;position: relative;}#sk-container-id-1 div.sk-item::before, #sk-container-id-1 div.sk-parallel-item::before {content: \"\";position: absolute;border-left: 1px solid gray;box-sizing: border-box;top: 0;bottom: 0;left: 50%;z-index: -1;}#sk-container-id-1 div.sk-parallel-item {display: flex;flex-direction: column;z-index: 1;position: relative;background-color: white;}#sk-container-id-1 div.sk-parallel-item:first-child::after {align-self: flex-end;width: 50%;}#sk-container-id-1 div.sk-parallel-item:last-child::after {align-self: flex-start;width: 50%;}#sk-container-id-1 div.sk-parallel-item:only-child::after {width: 0;}#sk-container-id-1 div.sk-dashed-wrapped {border: 1px dashed gray;margin: 0 0.4em 0.5em 0.4em;box-sizing: border-box;padding-bottom: 0.4em;background-color: white;}#sk-container-id-1 div.sk-label label {font-family: monospace;font-weight: bold;display: inline-block;line-height: 1.2em;}#sk-container-id-1 div.sk-label-container {text-align: center;}#sk-container-id-1 div.sk-container {/* jupyter's `normalize.less` sets `[hidden] { display: none; }` but bootstrap.min.css set `[hidden] { display: none !important; }` so we also need the `!important` here to be able to override the default hidden behavior on the sphinx rendered scikit-learn.org. See: https://github.com/scikit-learn/scikit-learn/issues/21755 */display: inline-block !important;position: relative;}#sk-container-id-1 div.sk-text-repr-fallback {display: none;}</style><div id=\"sk-container-id-1\" class=\"sk-top-container\"><div class=\"sk-text-repr-fallback\"><pre>SimpleImputer()</pre><b>In a Jupyter environment, please rerun this cell to show the HTML representation or trust the notebook. <br />On GitHub, the HTML representation is unable to render, please try loading this page with nbviewer.org.</b></div><div class=\"sk-container\" hidden><div class=\"sk-item\"><div class=\"sk-estimator sk-toggleable\"><input class=\"sk-toggleable__control sk-hidden--visually\" id=\"sk-estimator-id-1\" type=\"checkbox\" checked><label for=\"sk-estimator-id-1\" class=\"sk-toggleable__label sk-toggleable__label-arrow\">SimpleImputer</label><div class=\"sk-toggleable__content\"><pre>SimpleImputer()</pre></div></div></div></div></div>"
      ],
      "text/plain": [
       "SimpleImputer()"
      ]
     },
     "execution_count": 29,
     "metadata": {},
     "output_type": "execute_result"
    }
   ],
   "source": [
    "# fit it to calculate the value\n",
    "A.fit(np.array(df['Rating']).reshape(-1,1))"
   ]
  },
  {
   "cell_type": "code",
   "execution_count": 30,
   "id": "49d16e92",
   "metadata": {},
   "outputs": [],
   "source": [
    "# use transform to replace the null value with the mean calculated\n",
    "df['Rating'] = A.transform(np.array(df['Rating']).reshape(-1,1))"
   ]
  },
  {
   "cell_type": "code",
   "execution_count": 31,
   "id": "28507d79",
   "metadata": {},
   "outputs": [
    {
     "data": {
      "text/plain": [
       "0"
      ]
     },
     "execution_count": 31,
     "metadata": {},
     "output_type": "execute_result"
    }
   ],
   "source": [
    "df['Rating'].isnull().sum()"
   ]
  },
  {
   "cell_type": "code",
   "execution_count": 32,
   "id": "b0380125",
   "metadata": {},
   "outputs": [
    {
     "data": {
      "text/plain": [
       "1"
      ]
     },
     "execution_count": 32,
     "metadata": {},
     "output_type": "execute_result"
    }
   ],
   "source": [
    "# doing same for categorical value, but here we use mode\n",
    "df['Content Rating'].isnull().sum()"
   ]
  },
  {
   "cell_type": "code",
   "execution_count": 33,
   "id": "6c045ad2",
   "metadata": {},
   "outputs": [
    {
     "name": "stdout",
     "output_type": "stream",
     "text": [
      "\n"
     ]
    },
    {
     "data": {
      "text/html": [
       "<style>#sk-container-id-2 {color: black;background-color: white;}#sk-container-id-2 pre{padding: 0;}#sk-container-id-2 div.sk-toggleable {background-color: white;}#sk-container-id-2 label.sk-toggleable__label {cursor: pointer;display: block;width: 100%;margin-bottom: 0;padding: 0.3em;box-sizing: border-box;text-align: center;}#sk-container-id-2 label.sk-toggleable__label-arrow:before {content: \"▸\";float: left;margin-right: 0.25em;color: #696969;}#sk-container-id-2 label.sk-toggleable__label-arrow:hover:before {color: black;}#sk-container-id-2 div.sk-estimator:hover label.sk-toggleable__label-arrow:before {color: black;}#sk-container-id-2 div.sk-toggleable__content {max-height: 0;max-width: 0;overflow: hidden;text-align: left;background-color: #f0f8ff;}#sk-container-id-2 div.sk-toggleable__content pre {margin: 0.2em;color: black;border-radius: 0.25em;background-color: #f0f8ff;}#sk-container-id-2 input.sk-toggleable__control:checked~div.sk-toggleable__content {max-height: 200px;max-width: 100%;overflow: auto;}#sk-container-id-2 input.sk-toggleable__control:checked~label.sk-toggleable__label-arrow:before {content: \"▾\";}#sk-container-id-2 div.sk-estimator input.sk-toggleable__control:checked~label.sk-toggleable__label {background-color: #d4ebff;}#sk-container-id-2 div.sk-label input.sk-toggleable__control:checked~label.sk-toggleable__label {background-color: #d4ebff;}#sk-container-id-2 input.sk-hidden--visually {border: 0;clip: rect(1px 1px 1px 1px);clip: rect(1px, 1px, 1px, 1px);height: 1px;margin: -1px;overflow: hidden;padding: 0;position: absolute;width: 1px;}#sk-container-id-2 div.sk-estimator {font-family: monospace;background-color: #f0f8ff;border: 1px dotted black;border-radius: 0.25em;box-sizing: border-box;margin-bottom: 0.5em;}#sk-container-id-2 div.sk-estimator:hover {background-color: #d4ebff;}#sk-container-id-2 div.sk-parallel-item::after {content: \"\";width: 100%;border-bottom: 1px solid gray;flex-grow: 1;}#sk-container-id-2 div.sk-label:hover label.sk-toggleable__label {background-color: #d4ebff;}#sk-container-id-2 div.sk-serial::before {content: \"\";position: absolute;border-left: 1px solid gray;box-sizing: border-box;top: 0;bottom: 0;left: 50%;z-index: 0;}#sk-container-id-2 div.sk-serial {display: flex;flex-direction: column;align-items: center;background-color: white;padding-right: 0.2em;padding-left: 0.2em;position: relative;}#sk-container-id-2 div.sk-item {position: relative;z-index: 1;}#sk-container-id-2 div.sk-parallel {display: flex;align-items: stretch;justify-content: center;background-color: white;position: relative;}#sk-container-id-2 div.sk-item::before, #sk-container-id-2 div.sk-parallel-item::before {content: \"\";position: absolute;border-left: 1px solid gray;box-sizing: border-box;top: 0;bottom: 0;left: 50%;z-index: -1;}#sk-container-id-2 div.sk-parallel-item {display: flex;flex-direction: column;z-index: 1;position: relative;background-color: white;}#sk-container-id-2 div.sk-parallel-item:first-child::after {align-self: flex-end;width: 50%;}#sk-container-id-2 div.sk-parallel-item:last-child::after {align-self: flex-start;width: 50%;}#sk-container-id-2 div.sk-parallel-item:only-child::after {width: 0;}#sk-container-id-2 div.sk-dashed-wrapped {border: 1px dashed gray;margin: 0 0.4em 0.5em 0.4em;box-sizing: border-box;padding-bottom: 0.4em;background-color: white;}#sk-container-id-2 div.sk-label label {font-family: monospace;font-weight: bold;display: inline-block;line-height: 1.2em;}#sk-container-id-2 div.sk-label-container {text-align: center;}#sk-container-id-2 div.sk-container {/* jupyter's `normalize.less` sets `[hidden] { display: none; }` but bootstrap.min.css set `[hidden] { display: none !important; }` so we also need the `!important` here to be able to override the default hidden behavior on the sphinx rendered scikit-learn.org. See: https://github.com/scikit-learn/scikit-learn/issues/21755 */display: inline-block !important;position: relative;}#sk-container-id-2 div.sk-text-repr-fallback {display: none;}</style><div id=\"sk-container-id-2\" class=\"sk-top-container\"><div class=\"sk-text-repr-fallback\"><pre>SimpleImputer(strategy=&#x27;most_frequent&#x27;)</pre><b>In a Jupyter environment, please rerun this cell to show the HTML representation or trust the notebook. <br />On GitHub, the HTML representation is unable to render, please try loading this page with nbviewer.org.</b></div><div class=\"sk-container\" hidden><div class=\"sk-item\"><div class=\"sk-estimator sk-toggleable\"><input class=\"sk-toggleable__control sk-hidden--visually\" id=\"sk-estimator-id-2\" type=\"checkbox\" checked><label for=\"sk-estimator-id-2\" class=\"sk-toggleable__label sk-toggleable__label-arrow\">SimpleImputer</label><div class=\"sk-toggleable__content\"><pre>SimpleImputer(strategy=&#x27;most_frequent&#x27;)</pre></div></div></div></div></div>"
      ],
      "text/plain": [
       "SimpleImputer(strategy='most_frequent')"
      ]
     },
     "execution_count": 33,
     "metadata": {},
     "output_type": "execute_result"
    }
   ],
   "source": [
    "\n",
    "print()\n",
    "A = SimpleImputer(missing_values=np.nan,strategy='most_frequent')\n",
    "A.fit(np.array(df['Content Rating']).reshape(-1,1))\n"
   ]
  },
  {
   "cell_type": "code",
   "execution_count": 34,
   "id": "13b1491b",
   "metadata": {},
   "outputs": [],
   "source": [
    "df['Content Rating'] = A.transform(np.array(df['Content Rating']).reshape(-1,1))"
   ]
  },
  {
   "cell_type": "code",
   "execution_count": 35,
   "id": "a143323e",
   "metadata": {},
   "outputs": [
    {
     "data": {
      "text/plain": [
       "0"
      ]
     },
     "execution_count": 35,
     "metadata": {},
     "output_type": "execute_result"
    }
   ],
   "source": [
    "df['Content Rating'].isnull().sum()"
   ]
  },
  {
   "cell_type": "code",
   "execution_count": 36,
   "id": "da9fd82e",
   "metadata": {},
   "outputs": [],
   "source": [
    "# we dealt with null values in 1 numerical and 1 categorical column. rest null values we will drop since they are few in number"
   ]
  },
  {
   "cell_type": "code",
   "execution_count": 37,
   "id": "7b6d7517",
   "metadata": {},
   "outputs": [],
   "source": [
    "df = df.dropna()"
   ]
  },
  {
   "cell_type": "markdown",
   "id": "5984a4d0",
   "metadata": {},
   "source": [
    "# Data Analysis"
   ]
  },
  {
   "cell_type": "code",
   "execution_count": 48,
   "id": "6a83c34d",
   "metadata": {},
   "outputs": [],
   "source": [
    "# data analysis with multiple columns"
   ]
  },
  {
   "cell_type": "code",
   "execution_count": 49,
   "id": "deaf7aa7",
   "metadata": {},
   "outputs": [
    {
     "data": {
      "text/plain": [
       "61"
      ]
     },
     "execution_count": 49,
     "metadata": {},
     "output_type": "execute_result"
    }
   ],
   "source": [
    "# finding number of free apps in Art and Design\n",
    "\n",
    "len(df[(df['Category'] == 'ART_AND_DESIGN') & (df['Type'] == 'Free')])\n"
   ]
  },
  {
   "cell_type": "code",
   "execution_count": 50,
   "id": "fa4a581f",
   "metadata": {},
   "outputs": [
    {
     "data": {
      "text/plain": [
       "22"
      ]
     },
     "execution_count": 50,
     "metadata": {},
     "output_type": "execute_result"
    }
   ],
   "source": [
    "# finding number of apps in Art and Design with rating more than 4.5\n",
    "len(df[(df['Category'] == 'ART_AND_DESIGN') & (df['Rating'] > 4.5)])"
   ]
  },
  {
   "cell_type": "code",
   "execution_count": 51,
   "id": "2a0023f8",
   "metadata": {},
   "outputs": [
    {
     "data": {
      "text/plain": [
       "50"
      ]
     },
     "execution_count": 51,
     "metadata": {},
     "output_type": "execute_result"
    }
   ],
   "source": [
    "# finding number of free apps with rating more than 4.5 in family category\n",
    "len(df[(df['Category'] == 'FAMILY') & (df['Rating'] > 4.5) & (df['Type'] > 'Free')])"
   ]
  },
  {
   "cell_type": "code",
   "execution_count": 56,
   "id": "04661788",
   "metadata": {},
   "outputs": [
    {
     "data": {
      "text/plain": [
       "2151                                       Toca Life: City\n",
       "2168                        Children Educational Game Full\n",
       "2170                                             Hactar Go\n",
       "2172                        World Racers family board game\n",
       "2176                        Lanterns: The Harvest Festival\n",
       "2177                          Tsuro - The Game of the Path\n",
       "2189                                     Avokiddo Emotions\n",
       "2202                                     Avokiddo Emotions\n",
       "3993                        C4droid - C/C++ compiler & IDE\n",
       "4057                                        Mind Games Pro\n",
       "4260                                     Cut the Rope GOLD\n",
       "4293                                                K.MOJI\n",
       "4299                        Math Games for Pre-K - Grade 4\n",
       "4301                Fuzzy Numbers: Pre-K Number Foundation\n",
       "4316                                          Anna.K Tarot\n",
       "4508                                          Q Avatar Pro\n",
       "4556                                         Day R Premium\n",
       "4711                                        DRAGON QUEST V\n",
       "4813                              Z Origins - (Z The Game)\n",
       "5221                               Age of AI: War Strategy\n",
       "5246                                 Hey AJ! It's Bedtime!\n",
       "5411                        The Hunt for the Lost Treasure\n",
       "5412                                      Attack the Light\n",
       "5465                                  AP Government Review\n",
       "5475                        500 AP World History Questions\n",
       "5482                            meStudying: AP English Lit\n",
       "5489                             AP Art History Flashcards\n",
       "5627                             Five Nights at Freddy's 2\n",
       "6252                                    Battleheart Legacy\n",
       "6413                Chess of Blades (BL/Yaoi Game) (No VA)\n",
       "6570                                       Bo's School Day\n",
       "6936                                             Hitman GO\n",
       "7204             TI-84 CE Graphing Calculator Manual TI 84\n",
       "7347                               boattheory.ch Full 2018\n",
       "7357                                       DRAGON QUEST IV\n",
       "7477                            USMLE Step 2 CK Flashcards\n",
       "7586                        Teeny Titans - Teen Titans Go!\n",
       "8014                                          Morse Player\n",
       "8018     30WPM Amateur ham radio Koch CW Morse code tra...\n",
       "8077                                                go41cx\n",
       "8171                                 The House of Da Vinci\n",
       "8321                           Myth Defense 2: DF Platinum\n",
       "8793                                       Dr. Seuss's ABC\n",
       "8860                                           Bloons TD 5\n",
       "9039                                         Chronolink DX\n",
       "9304                                  Carrier Landings Pro\n",
       "9470                                     Learn Music Notes\n",
       "9678                                     Where's My Water?\n",
       "9848                         Learn Italian with MosaLingua\n",
       "10459                                            SCI-FI UI\n",
       "Name: App, dtype: object"
      ]
     },
     "execution_count": 56,
     "metadata": {},
     "output_type": "execute_result"
    }
   ],
   "source": [
    "# listing those apps\n",
    "df[(df['Category'] == 'FAMILY') & (df['Rating'] > 4.5) & (df['Type'] > 'Free')]['App']"
   ]
  },
  {
   "cell_type": "markdown",
   "id": "1f0a77b3",
   "metadata": {},
   "source": [
    "### Groupby and sort_values in pandas"
   ]
  },
  {
   "cell_type": "code",
   "execution_count": 62,
   "id": "e1cc2f09",
   "metadata": {},
   "outputs": [
    {
     "data": {
      "text/html": [
       "<div>\n",
       "<style scoped>\n",
       "    .dataframe tbody tr th:only-of-type {\n",
       "        vertical-align: middle;\n",
       "    }\n",
       "\n",
       "    .dataframe tbody tr th {\n",
       "        vertical-align: top;\n",
       "    }\n",
       "\n",
       "    .dataframe thead th {\n",
       "        text-align: right;\n",
       "    }\n",
       "</style>\n",
       "<table border=\"1\" class=\"dataframe\">\n",
       "  <thead>\n",
       "    <tr style=\"text-align: right;\">\n",
       "      <th></th>\n",
       "      <th>App</th>\n",
       "      <th>Category</th>\n",
       "      <th>Rating</th>\n",
       "      <th>Reviews</th>\n",
       "      <th>Size</th>\n",
       "      <th>Installs</th>\n",
       "      <th>Type</th>\n",
       "      <th>Price</th>\n",
       "      <th>Content Rating</th>\n",
       "      <th>Genres</th>\n",
       "      <th>Last Updated</th>\n",
       "      <th>Current Ver</th>\n",
       "      <th>Android Ver</th>\n",
       "    </tr>\n",
       "  </thead>\n",
       "  <tbody>\n",
       "    <tr>\n",
       "      <th>7926</th>\n",
       "      <td>Tech CU Card Manager</td>\n",
       "      <td>FINANCE</td>\n",
       "      <td>1.0</td>\n",
       "      <td>2</td>\n",
       "      <td>7.2M</td>\n",
       "      <td>1,000+</td>\n",
       "      <td>Free</td>\n",
       "      <td>0</td>\n",
       "      <td>Everyone</td>\n",
       "      <td>Finance</td>\n",
       "      <td>July 25, 2017</td>\n",
       "      <td>1.0.1</td>\n",
       "      <td>4.0 and up</td>\n",
       "    </tr>\n",
       "    <tr>\n",
       "      <th>7806</th>\n",
       "      <td>CR Magazine</td>\n",
       "      <td>BUSINESS</td>\n",
       "      <td>1.0</td>\n",
       "      <td>1</td>\n",
       "      <td>7.8M</td>\n",
       "      <td>100+</td>\n",
       "      <td>Free</td>\n",
       "      <td>0</td>\n",
       "      <td>Everyone</td>\n",
       "      <td>Business</td>\n",
       "      <td>July 23, 2014</td>\n",
       "      <td>2.4.2</td>\n",
       "      <td>2.3.3 and up</td>\n",
       "    </tr>\n",
       "    <tr>\n",
       "      <th>625</th>\n",
       "      <td>House party - live chat</td>\n",
       "      <td>DATING</td>\n",
       "      <td>1.0</td>\n",
       "      <td>1</td>\n",
       "      <td>9.2M</td>\n",
       "      <td>10+</td>\n",
       "      <td>Free</td>\n",
       "      <td>0</td>\n",
       "      <td>Mature 17+</td>\n",
       "      <td>Dating</td>\n",
       "      <td>July 31, 2018</td>\n",
       "      <td>3.52</td>\n",
       "      <td>4.0.3 and up</td>\n",
       "    </tr>\n",
       "    <tr>\n",
       "      <th>10400</th>\n",
       "      <td>Familial Hypercholesterolaemia Handbook</td>\n",
       "      <td>MEDICAL</td>\n",
       "      <td>1.0</td>\n",
       "      <td>2</td>\n",
       "      <td>33M</td>\n",
       "      <td>100+</td>\n",
       "      <td>Free</td>\n",
       "      <td>0</td>\n",
       "      <td>Everyone</td>\n",
       "      <td>Medical</td>\n",
       "      <td>July 2, 2018</td>\n",
       "      <td>2.0.1</td>\n",
       "      <td>4.1 and up</td>\n",
       "    </tr>\n",
       "    <tr>\n",
       "      <th>10591</th>\n",
       "      <td>Lottery Ticket Checker - Florida Results &amp; Lotto</td>\n",
       "      <td>TOOLS</td>\n",
       "      <td>1.0</td>\n",
       "      <td>3</td>\n",
       "      <td>41M</td>\n",
       "      <td>500+</td>\n",
       "      <td>Free</td>\n",
       "      <td>0</td>\n",
       "      <td>Everyone</td>\n",
       "      <td>Tools</td>\n",
       "      <td>December 12, 2017</td>\n",
       "      <td>1.0</td>\n",
       "      <td>4.2 and up</td>\n",
       "    </tr>\n",
       "    <tr>\n",
       "      <th>...</th>\n",
       "      <td>...</td>\n",
       "      <td>...</td>\n",
       "      <td>...</td>\n",
       "      <td>...</td>\n",
       "      <td>...</td>\n",
       "      <td>...</td>\n",
       "      <td>...</td>\n",
       "      <td>...</td>\n",
       "      <td>...</td>\n",
       "      <td>...</td>\n",
       "      <td>...</td>\n",
       "      <td>...</td>\n",
       "      <td>...</td>\n",
       "    </tr>\n",
       "    <tr>\n",
       "      <th>7377</th>\n",
       "      <td>CI 174 Gray Icon Pack</td>\n",
       "      <td>PERSONALIZATION</td>\n",
       "      <td>5.0</td>\n",
       "      <td>1</td>\n",
       "      <td>46M</td>\n",
       "      <td>10+</td>\n",
       "      <td>Paid</td>\n",
       "      <td>$0.99</td>\n",
       "      <td>Everyone</td>\n",
       "      <td>Personalization</td>\n",
       "      <td>May 21, 2018</td>\n",
       "      <td>1.1</td>\n",
       "      <td>4.1 and up</td>\n",
       "    </tr>\n",
       "    <tr>\n",
       "      <th>5763</th>\n",
       "      <td>Tozer Devotional -Series 1</td>\n",
       "      <td>BOOKS_AND_REFERENCE</td>\n",
       "      <td>5.0</td>\n",
       "      <td>5</td>\n",
       "      <td>4.3M</td>\n",
       "      <td>1,000+</td>\n",
       "      <td>Free</td>\n",
       "      <td>0</td>\n",
       "      <td>Everyone</td>\n",
       "      <td>Books &amp; Reference</td>\n",
       "      <td>October 8, 2016</td>\n",
       "      <td>1.0</td>\n",
       "      <td>2.3 and up</td>\n",
       "    </tr>\n",
       "    <tr>\n",
       "      <th>6816</th>\n",
       "      <td>BU Study</td>\n",
       "      <td>FAMILY</td>\n",
       "      <td>5.0</td>\n",
       "      <td>7</td>\n",
       "      <td>5.6M</td>\n",
       "      <td>10+</td>\n",
       "      <td>Free</td>\n",
       "      <td>0</td>\n",
       "      <td>Everyone</td>\n",
       "      <td>Education</td>\n",
       "      <td>December 7, 2017</td>\n",
       "      <td>1.0</td>\n",
       "      <td>4.0.3 and up</td>\n",
       "    </tr>\n",
       "    <tr>\n",
       "      <th>5776</th>\n",
       "      <td>Food-Aw - Order Food Online in Aruba</td>\n",
       "      <td>FOOD_AND_DRINK</td>\n",
       "      <td>5.0</td>\n",
       "      <td>1</td>\n",
       "      <td>24M</td>\n",
       "      <td>100+</td>\n",
       "      <td>Free</td>\n",
       "      <td>0</td>\n",
       "      <td>Everyone</td>\n",
       "      <td>Food &amp; Drink</td>\n",
       "      <td>April 5, 2018</td>\n",
       "      <td>10</td>\n",
       "      <td>4.1 and up</td>\n",
       "    </tr>\n",
       "    <tr>\n",
       "      <th>7291</th>\n",
       "      <td>CG Prints</td>\n",
       "      <td>PHOTOGRAPHY</td>\n",
       "      <td>5.0</td>\n",
       "      <td>1</td>\n",
       "      <td>2.3M</td>\n",
       "      <td>100+</td>\n",
       "      <td>Free</td>\n",
       "      <td>0</td>\n",
       "      <td>Everyone</td>\n",
       "      <td>Photography</td>\n",
       "      <td>January 24, 2017</td>\n",
       "      <td>1.0.5</td>\n",
       "      <td>4.3 and up</td>\n",
       "    </tr>\n",
       "  </tbody>\n",
       "</table>\n",
       "<p>10829 rows × 13 columns</p>\n",
       "</div>"
      ],
      "text/plain": [
       "                                                    App             Category  \\\n",
       "7926                               Tech CU Card Manager              FINANCE   \n",
       "7806                                        CR Magazine             BUSINESS   \n",
       "625                             House party - live chat               DATING   \n",
       "10400           Familial Hypercholesterolaemia Handbook              MEDICAL   \n",
       "10591  Lottery Ticket Checker - Florida Results & Lotto                TOOLS   \n",
       "...                                                 ...                  ...   \n",
       "7377                              CI 174 Gray Icon Pack      PERSONALIZATION   \n",
       "5763                         Tozer Devotional -Series 1  BOOKS_AND_REFERENCE   \n",
       "6816                                           BU Study               FAMILY   \n",
       "5776               Food-Aw - Order Food Online in Aruba       FOOD_AND_DRINK   \n",
       "7291                                          CG Prints          PHOTOGRAPHY   \n",
       "\n",
       "       Rating Reviews  Size Installs  Type  Price Content Rating  \\\n",
       "7926      1.0       2  7.2M   1,000+  Free      0       Everyone   \n",
       "7806      1.0       1  7.8M     100+  Free      0       Everyone   \n",
       "625       1.0       1  9.2M      10+  Free      0     Mature 17+   \n",
       "10400     1.0       2   33M     100+  Free      0       Everyone   \n",
       "10591     1.0       3   41M     500+  Free      0       Everyone   \n",
       "...       ...     ...   ...      ...   ...    ...            ...   \n",
       "7377      5.0       1   46M      10+  Paid  $0.99       Everyone   \n",
       "5763      5.0       5  4.3M   1,000+  Free      0       Everyone   \n",
       "6816      5.0       7  5.6M      10+  Free      0       Everyone   \n",
       "5776      5.0       1   24M     100+  Free      0       Everyone   \n",
       "7291      5.0       1  2.3M     100+  Free      0       Everyone   \n",
       "\n",
       "                  Genres       Last Updated Current Ver   Android Ver  \n",
       "7926             Finance      July 25, 2017       1.0.1    4.0 and up  \n",
       "7806            Business      July 23, 2014       2.4.2  2.3.3 and up  \n",
       "625               Dating      July 31, 2018        3.52  4.0.3 and up  \n",
       "10400            Medical       July 2, 2018       2.0.1    4.1 and up  \n",
       "10591              Tools  December 12, 2017         1.0    4.2 and up  \n",
       "...                  ...                ...         ...           ...  \n",
       "7377     Personalization       May 21, 2018         1.1    4.1 and up  \n",
       "5763   Books & Reference    October 8, 2016         1.0    2.3 and up  \n",
       "6816           Education   December 7, 2017         1.0  4.0.3 and up  \n",
       "5776        Food & Drink      April 5, 2018          10    4.1 and up  \n",
       "7291         Photography   January 24, 2017       1.0.5    4.3 and up  \n",
       "\n",
       "[10829 rows x 13 columns]"
      ]
     },
     "execution_count": 62,
     "metadata": {},
     "output_type": "execute_result"
    }
   ],
   "source": [
    "#data in ascending order wrt rating\n",
    "df.sort_values(by = 'Rating', ascending = True)"
   ]
  },
  {
   "cell_type": "code",
   "execution_count": 63,
   "id": "11b3289c",
   "metadata": {},
   "outputs": [
    {
     "name": "stderr",
     "output_type": "stream",
     "text": [
      "C:\\Users\\SNEHA\\AppData\\Local\\Temp\\ipykernel_21688\\1012520090.py:2: FutureWarning: The default value of numeric_only in DataFrameGroupBy.mean is deprecated. In a future version, numeric_only will default to False. Either specify numeric_only or select only columns which should be valid for the function.\n",
      "  df.groupby('Category').mean()['Rating']\n"
     ]
    },
    {
     "data": {
      "text/plain": [
       "Category\n",
       "ART_AND_DESIGN         4.368438\n",
       "AUTO_AND_VEHICLES      4.190824\n",
       "BEAUTY                 4.260882\n",
       "BOOKS_AND_REFERENCE    4.311537\n",
       "BUSINESS               4.145987\n",
       "COMICS                 4.156445\n",
       "COMMUNICATION          4.163842\n",
       "DATING                 4.007864\n",
       "EDUCATION              4.387778\n",
       "ENTERTAINMENT          4.126174\n",
       "EVENTS                 4.363647\n",
       "FAMILY                 4.192490\n",
       "FINANCE                4.139108\n",
       "FOOD_AND_DRINK         4.170709\n",
       "GAME                   4.282506\n",
       "HEALTH_AND_FITNESS     4.266296\n",
       "HOUSE_AND_HOME         4.196819\n",
       "LIBRARIES_AND_DEMO     4.182938\n",
       "LIFESTYLE              4.112427\n",
       "MAPS_AND_NAVIGATION    4.065061\n",
       "MEDICAL                4.190167\n",
       "NEWS_AND_MAGAZINES     4.142993\n",
       "PARENTING              4.282223\n",
       "PERSONALIZATION        4.306873\n",
       "PHOTOGRAPHY            4.192179\n",
       "PRODUCTIVITY           4.208287\n",
       "SHOPPING               4.254052\n",
       "SOCIAL                 4.248001\n",
       "SPORTS                 4.218404\n",
       "TOOLS                  4.065970\n",
       "TRAVEL_AND_LOCAL       4.119716\n",
       "VIDEO_PLAYERS          4.074858\n",
       "WEATHER                4.239675\n",
       "Name: Rating, dtype: float64"
      ]
     },
     "execution_count": 63,
     "metadata": {},
     "output_type": "execute_result"
    }
   ],
   "source": [
    "# finding average rating of every category \n",
    "df.groupby('Category').mean()['Rating']"
   ]
  },
  {
   "cell_type": "code",
   "execution_count": 68,
   "id": "92a4a0de",
   "metadata": {},
   "outputs": [
    {
     "name": "stderr",
     "output_type": "stream",
     "text": [
      "C:\\Users\\SNEHA\\AppData\\Local\\Temp\\ipykernel_21688\\2922510116.py:2: FutureWarning: The default value of numeric_only in DataFrameGroupBy.mean is deprecated. In a future version, numeric_only will default to False. Either specify numeric_only or select only columns which should be valid for the function.\n",
      "  df.groupby('Category').mean()['Rating'].sort_values(ascending=False)\n"
     ]
    },
    {
     "data": {
      "text/plain": [
       "Category\n",
       "EDUCATION              4.387778\n",
       "ART_AND_DESIGN         4.368438\n",
       "EVENTS                 4.363647\n",
       "BOOKS_AND_REFERENCE    4.311537\n",
       "PERSONALIZATION        4.306873\n",
       "GAME                   4.282506\n",
       "PARENTING              4.282223\n",
       "HEALTH_AND_FITNESS     4.266296\n",
       "BEAUTY                 4.260882\n",
       "SHOPPING               4.254052\n",
       "SOCIAL                 4.248001\n",
       "WEATHER                4.239675\n",
       "SPORTS                 4.218404\n",
       "PRODUCTIVITY           4.208287\n",
       "HOUSE_AND_HOME         4.196819\n",
       "FAMILY                 4.192490\n",
       "PHOTOGRAPHY            4.192179\n",
       "AUTO_AND_VEHICLES      4.190824\n",
       "MEDICAL                4.190167\n",
       "LIBRARIES_AND_DEMO     4.182938\n",
       "FOOD_AND_DRINK         4.170709\n",
       "COMMUNICATION          4.163842\n",
       "COMICS                 4.156445\n",
       "BUSINESS               4.145987\n",
       "NEWS_AND_MAGAZINES     4.142993\n",
       "FINANCE                4.139108\n",
       "ENTERTAINMENT          4.126174\n",
       "TRAVEL_AND_LOCAL       4.119716\n",
       "LIFESTYLE              4.112427\n",
       "VIDEO_PLAYERS          4.074858\n",
       "TOOLS                  4.065970\n",
       "MAPS_AND_NAVIGATION    4.065061\n",
       "DATING                 4.007864\n",
       "Name: Rating, dtype: float64"
      ]
     },
     "execution_count": 68,
     "metadata": {},
     "output_type": "execute_result"
    }
   ],
   "source": [
    "# finding app with max average rating\n",
    "df.groupby('Category').mean()['Rating'].sort_values(ascending=False)\n",
    "# thus Education has max average rating"
   ]
  },
  {
   "cell_type": "code",
   "execution_count": 69,
   "id": "cb1eebba",
   "metadata": {},
   "outputs": [],
   "source": [
    "# finding number of free apps in each category"
   ]
  },
  {
   "cell_type": "code",
   "execution_count": 73,
   "id": "891c756d",
   "metadata": {},
   "outputs": [
    {
     "data": {
      "text/plain": [
       "Category\n",
       "ART_AND_DESIGN           61\n",
       "AUTO_AND_VEHICLES        82\n",
       "BEAUTY                   53\n",
       "BOOKS_AND_REFERENCE     202\n",
       "BUSINESS                446\n",
       "COMICS                   60\n",
       "COMMUNICATION           360\n",
       "DATING                  227\n",
       "EDUCATION               152\n",
       "ENTERTAINMENT           147\n",
       "EVENTS                   63\n",
       "FAMILY                 1778\n",
       "FINANCE                 349\n",
       "FOOD_AND_DRINK          125\n",
       "GAME                   1061\n",
       "HEALTH_AND_FITNESS      325\n",
       "HOUSE_AND_HOME           88\n",
       "LIBRARIES_AND_DEMO       83\n",
       "LIFESTYLE               363\n",
       "MAPS_AND_NAVIGATION     132\n",
       "MEDICAL                 354\n",
       "NEWS_AND_MAGAZINES      281\n",
       "PARENTING                58\n",
       "PERSONALIZATION         308\n",
       "PHOTOGRAPHY             313\n",
       "PRODUCTIVITY            396\n",
       "SHOPPING                258\n",
       "SOCIAL                  292\n",
       "SPORTS                  360\n",
       "TOOLS                   764\n",
       "TRAVEL_AND_LOCAL        246\n",
       "VIDEO_PLAYERS           171\n",
       "WEATHER                  74\n",
       "Name: Type, dtype: int64"
      ]
     },
     "execution_count": 73,
     "metadata": {},
     "output_type": "execute_result"
    }
   ],
   "source": [
    "df = df[df['Type']=='Free']\n",
    "df.groupby('Category').count()['Type']"
   ]
  },
  {
   "cell_type": "code",
   "execution_count": null,
   "id": "287f83ba",
   "metadata": {},
   "outputs": [],
   "source": []
  }
 ],
 "metadata": {
  "kernelspec": {
   "display_name": "Python 3 (ipykernel)",
   "language": "python",
   "name": "python3"
  },
  "language_info": {
   "codemirror_mode": {
    "name": "ipython",
    "version": 3
   },
   "file_extension": ".py",
   "mimetype": "text/x-python",
   "name": "python",
   "nbconvert_exporter": "python",
   "pygments_lexer": "ipython3",
   "version": "3.10.9"
  }
 },
 "nbformat": 4,
 "nbformat_minor": 5
}
